{
 "cells": [
  {
   "cell_type": "markdown",
   "id": "awful-clear",
   "metadata": {},
   "source": [
    "# Multiprocessng Federated MNIST torch Tutorial"
   ]
  },
  {
   "cell_type": "markdown",
   "id": "blank-accent",
   "metadata": {},
   "source": [
    "## !!WARNING!! \n",
    "Multiprocessing is not stable in Jupyter Notebook. Some processes can live in the memory when the main already finished.\n",
    "We recomended to restart the kernel after every experiment."
   ]
  },
  {
   "cell_type": "markdown",
   "id": "swedish-credit",
   "metadata": {},
   "source": [
    "To run federation in multiprocessing way you need: \n",
    "1. define model class `Net`, and functions thats return opimizer `get_optimizer` and loss function `cross_entropy` in **in separate cell**. \n",
    "2. save jupyter notebook cell as file using `%%writefile <filename>` in the top of the cell.\n",
    "2. import `Net`, `cross_entropy` and `get_optimizer` in the next cell\n",
    "   from <filename> import Net, cross_entropy, get_optimizer"
   ]
  },
  {
   "cell_type": "code",
   "execution_count": 4,
   "id": "blond-pierre",
   "metadata": {},
   "outputs": [
    {
     "name": "stdout",
     "output_type": "stream",
     "text": [
      "Overwriting torch_model.py\n"
     ]
    }
   ],
   "source": [
    "% % writefile torch_model.py\n",
    "\n",
    "import torch.nn as nn\n",
    "\n",
    "\n",
    "class Net(nn.Module):\n",
    "    \"\"\"PyTorch Neural Network.\"\"\"\n",
    "\n",
    "    def __init__(self):\n",
    "        \"\"\"Initialize.\"\"\"\n",
    "        super(Net, self).__init__()\n",
    "        self.conv1 = nn.Conv2d(1, 16, 3)\n",
    "        self.pool = nn.MaxPool2d(2, 2)\n",
    "        self.conv2 = nn.Conv2d(16, 32, 3)\n",
    "        self.fc1 = nn.Linear(32 * 5 * 5, 32)\n",
    "        self.fc2 = nn.Linear(32, 84)\n",
    "        self.fc3 = nn.Linear(84, 10)\n",
    "\n",
    "    def forward(self, x):\n",
    "        \"\"\"Forward pass of the network.\"\"\"\n",
    "        x = self.pool(F.relu(self.conv1(x)))\n",
    "        x = self.pool(F.relu(self.conv2(x)))\n",
    "        x = x.view(x.size(0), -1)\n",
    "        x = F.relu(self.fc1(x))\n",
    "        x = F.relu(self.fc2(x))\n",
    "        x = self.fc3(x)\n",
    "        return x\n",
    "\n",
    "\n",
    "def cross_entropy(output, target):\n",
    "    \"\"\"Binary cross-entropy metric.\"\"\"\n",
    "    return F.cross_entropy(input=output, target=target)\n",
    "\n",
    "\n",
    "def get_optimizer(x):\n",
    "    \"\"\"Optimizer function.\"\"\"\n",
    "    return optim.Adam(x, lr=1e-4)\n"
   ]
  },
  {
   "cell_type": "code",
   "execution_count": 2,
   "id": "speaking-medicine",
   "metadata": {},
   "outputs": [
    {
     "name": "stdout",
     "output_type": "stream",
     "text": [
      "Requirement already satisfied: openfl in /home/dmitry/code/openfl (1.0.1)\n",
      "Requirement already satisfied: torchvision in /home/dmitry/code/openfl/venv/lib/python3.8/site-packages (0.9.1)\n",
      "Requirement already satisfied: Click>=7.0 in /home/dmitry/code/openfl/venv/lib/python3.8/site-packages (from openfl) (7.1.2)\n",
      "Requirement already satisfied: PyYAML>=5.4.1 in /home/dmitry/code/openfl/venv/lib/python3.8/site-packages (from openfl) (5.4.1)\n",
      "Requirement already satisfied: cryptography>=3.4.6 in /home/dmitry/code/openfl/venv/lib/python3.8/site-packages (from openfl) (3.4.6)\n",
      "Requirement already satisfied: docker in /home/dmitry/code/openfl/venv/lib/python3.8/site-packages (from openfl) (4.4.4)\n",
      "Requirement already satisfied: flatten_json in /home/dmitry/code/openfl/venv/lib/python3.8/site-packages (from openfl) (0.1.13)\n",
      "Requirement already satisfied: grpcio-tools==1.30.0 in /home/dmitry/code/openfl/venv/lib/python3.8/site-packages (from openfl) (1.30.0)\n",
      "Requirement already satisfied: grpcio==1.30.0 in /home/dmitry/code/openfl/venv/lib/python3.8/site-packages (from openfl) (1.30.0)\n",
      "Requirement already satisfied: ipykernel in /home/dmitry/code/openfl/venv/lib/python3.8/site-packages (from openfl) (5.5.0)\n",
      "Requirement already satisfied: jupyter in /home/dmitry/code/openfl/venv/lib/python3.8/site-packages (from openfl) (1.0.0)\n",
      "Requirement already satisfied: numpy in /home/dmitry/code/openfl/venv/lib/python3.8/site-packages (from openfl) (1.18.5)\n",
      "Requirement already satisfied: pandas in /home/dmitry/code/openfl/venv/lib/python3.8/site-packages (from openfl) (1.2.3)\n",
      "Requirement already satisfied: protobuf in /home/dmitry/code/openfl/venv/lib/python3.8/site-packages (from openfl) (3.15.6)\n",
      "Requirement already satisfied: rich==9.1.0 in /home/dmitry/code/openfl/venv/lib/python3.8/site-packages (from openfl) (9.1.0)\n",
      "Requirement already satisfied: scikit-learn in /home/dmitry/code/openfl/venv/lib/python3.8/site-packages (from openfl) (0.24.1)\n",
      "Requirement already satisfied: tqdm in /home/dmitry/code/openfl/venv/lib/python3.8/site-packages (from openfl) (4.59.0)\n",
      "Requirement already satisfied: six>=1.5.2 in /home/dmitry/code/openfl/venv/lib/python3.8/site-packages (from grpcio==1.30.0->openfl) (1.15.0)\n",
      "Requirement already satisfied: commonmark<0.10.0,>=0.9.0 in /home/dmitry/code/openfl/venv/lib/python3.8/site-packages (from rich==9.1.0->openfl) (0.9.1)\n",
      "Requirement already satisfied: typing-extensions<4.0.0,>=3.7.4 in /home/dmitry/code/openfl/venv/lib/python3.8/site-packages (from rich==9.1.0->openfl) (3.7.4.3)\n",
      "Requirement already satisfied: pygments<3.0.0,>=2.6.0 in /home/dmitry/code/openfl/venv/lib/python3.8/site-packages (from rich==9.1.0->openfl) (2.8.1)\n",
      "Requirement already satisfied: colorama<0.5.0,>=0.4.0 in /home/dmitry/code/openfl/venv/lib/python3.8/site-packages (from rich==9.1.0->openfl) (0.4.4)\n",
      "Requirement already satisfied: cffi>=1.12 in /home/dmitry/code/openfl/venv/lib/python3.8/site-packages (from cryptography>=3.4.6->openfl) (1.14.5)\n",
      "Requirement already satisfied: pycparser in /home/dmitry/code/openfl/venv/lib/python3.8/site-packages (from cffi>=1.12->cryptography>=3.4.6->openfl) (2.20)\n",
      "Requirement already satisfied: pillow>=4.1.1 in /home/dmitry/code/openfl/venv/lib/python3.8/site-packages (from torchvision) (8.1.2)\n",
      "Requirement already satisfied: torch==1.8.1 in /home/dmitry/code/openfl/venv/lib/python3.8/site-packages (from torchvision) (1.8.1)\n",
      "Requirement already satisfied: websocket-client>=0.32.0 in /home/dmitry/code/openfl/venv/lib/python3.8/site-packages (from docker->openfl) (0.58.0)\n",
      "Requirement already satisfied: requests!=2.18.0,>=2.14.2 in /home/dmitry/code/openfl/venv/lib/python3.8/site-packages (from docker->openfl) (2.25.1)\n",
      "Requirement already satisfied: idna<3,>=2.5 in /home/dmitry/code/openfl/venv/lib/python3.8/site-packages (from requests!=2.18.0,>=2.14.2->docker->openfl) (2.10)\n",
      "Requirement already satisfied: urllib3<1.27,>=1.21.1 in /home/dmitry/code/openfl/venv/lib/python3.8/site-packages (from requests!=2.18.0,>=2.14.2->docker->openfl) (1.26.4)\n",
      "Requirement already satisfied: certifi>=2017.4.17 in /home/dmitry/code/openfl/venv/lib/python3.8/site-packages (from requests!=2.18.0,>=2.14.2->docker->openfl) (2020.12.5)\n",
      "Requirement already satisfied: chardet<5,>=3.0.2 in /home/dmitry/code/openfl/venv/lib/python3.8/site-packages (from requests!=2.18.0,>=2.14.2->docker->openfl) (4.0.0)\n",
      "Requirement already satisfied: traitlets>=4.1.0 in /home/dmitry/code/openfl/venv/lib/python3.8/site-packages (from ipykernel->openfl) (5.0.5)\n",
      "Requirement already satisfied: jupyter-client in /home/dmitry/code/openfl/venv/lib/python3.8/site-packages (from ipykernel->openfl) (6.1.12)\n",
      "Requirement already satisfied: tornado>=4.2 in /home/dmitry/code/openfl/venv/lib/python3.8/site-packages (from ipykernel->openfl) (6.1)\n",
      "Requirement already satisfied: ipython>=5.0.0 in /home/dmitry/code/openfl/venv/lib/python3.8/site-packages (from ipykernel->openfl) (7.23.1)\n",
      "Requirement already satisfied: matplotlib-inline in /home/dmitry/code/openfl/venv/lib/python3.8/site-packages (from ipython>=5.0.0->ipykernel->openfl) (0.1.2)\n",
      "Requirement already satisfied: prompt-toolkit!=3.0.0,!=3.0.1,<3.1.0,>=2.0.0 in /home/dmitry/code/openfl/venv/lib/python3.8/site-packages (from ipython>=5.0.0->ipykernel->openfl) (3.0.17)\n",
      "Requirement already satisfied: pexpect>4.3 in /home/dmitry/code/openfl/venv/lib/python3.8/site-packages (from ipython>=5.0.0->ipykernel->openfl) (4.8.0)\n",
      "Requirement already satisfied: jedi>=0.16 in /home/dmitry/code/openfl/venv/lib/python3.8/site-packages (from ipython>=5.0.0->ipykernel->openfl) (0.18.0)\n",
      "Requirement already satisfied: backcall in /home/dmitry/code/openfl/venv/lib/python3.8/site-packages (from ipython>=5.0.0->ipykernel->openfl) (0.2.0)\n",
      "Requirement already satisfied: decorator in /home/dmitry/code/openfl/venv/lib/python3.8/site-packages (from ipython>=5.0.0->ipykernel->openfl) (4.4.2)\n",
      "Requirement already satisfied: pickleshare in /home/dmitry/code/openfl/venv/lib/python3.8/site-packages (from ipython>=5.0.0->ipykernel->openfl) (0.7.5)\n",
      "Requirement already satisfied: setuptools>=18.5 in /home/dmitry/code/openfl/venv/lib/python3.8/site-packages (from ipython>=5.0.0->ipykernel->openfl) (54.1.2)\n",
      "Requirement already satisfied: parso<0.9.0,>=0.8.0 in /home/dmitry/code/openfl/venv/lib/python3.8/site-packages (from jedi>=0.16->ipython>=5.0.0->ipykernel->openfl) (0.8.1)\n",
      "Requirement already satisfied: ptyprocess>=0.5 in /home/dmitry/code/openfl/venv/lib/python3.8/site-packages (from pexpect>4.3->ipython>=5.0.0->ipykernel->openfl) (0.7.0)\n",
      "Requirement already satisfied: wcwidth in /home/dmitry/code/openfl/venv/lib/python3.8/site-packages (from prompt-toolkit!=3.0.0,!=3.0.1,<3.1.0,>=2.0.0->ipython>=5.0.0->ipykernel->openfl) (0.2.5)\n",
      "Requirement already satisfied: ipython-genutils in /home/dmitry/code/openfl/venv/lib/python3.8/site-packages (from traitlets>=4.1.0->ipykernel->openfl) (0.2.0)\n",
      "Requirement already satisfied: ipywidgets in /home/dmitry/code/openfl/venv/lib/python3.8/site-packages (from jupyter->openfl) (7.6.3)\n",
      "Requirement already satisfied: jupyter-console in /home/dmitry/code/openfl/venv/lib/python3.8/site-packages (from jupyter->openfl) (6.3.0)\n",
      "Requirement already satisfied: notebook in /home/dmitry/code/openfl/venv/lib/python3.8/site-packages (from jupyter->openfl) (6.2.0)\n",
      "Requirement already satisfied: qtconsole in /home/dmitry/code/openfl/venv/lib/python3.8/site-packages (from jupyter->openfl) (5.0.3)\n",
      "Requirement already satisfied: nbconvert in /home/dmitry/code/openfl/venv/lib/python3.8/site-packages (from jupyter->openfl) (6.0.7)\n",
      "Requirement already satisfied: widgetsnbextension~=3.5.0 in /home/dmitry/code/openfl/venv/lib/python3.8/site-packages (from ipywidgets->jupyter->openfl) (3.5.1)\n",
      "Requirement already satisfied: nbformat>=4.2.0 in /home/dmitry/code/openfl/venv/lib/python3.8/site-packages (from ipywidgets->jupyter->openfl) (5.1.2)\n",
      "Requirement already satisfied: jupyterlab-widgets>=1.0.0 in /home/dmitry/code/openfl/venv/lib/python3.8/site-packages (from ipywidgets->jupyter->openfl) (1.0.0)\n",
      "Requirement already satisfied: jupyter-core in /home/dmitry/code/openfl/venv/lib/python3.8/site-packages (from nbformat>=4.2.0->ipywidgets->jupyter->openfl) (4.7.1)\n",
      "Requirement already satisfied: jsonschema!=2.5.0,>=2.4 in /home/dmitry/code/openfl/venv/lib/python3.8/site-packages (from nbformat>=4.2.0->ipywidgets->jupyter->openfl) (3.2.0)\n"
     ]
    },
    {
     "name": "stdout",
     "output_type": "stream",
     "text": [
      "Requirement already satisfied: pyrsistent>=0.14.0 in /home/dmitry/code/openfl/venv/lib/python3.8/site-packages (from jsonschema!=2.5.0,>=2.4->nbformat>=4.2.0->ipywidgets->jupyter->openfl) (0.17.3)\n",
      "Requirement already satisfied: attrs>=17.4.0 in /home/dmitry/code/openfl/venv/lib/python3.8/site-packages (from jsonschema!=2.5.0,>=2.4->nbformat>=4.2.0->ipywidgets->jupyter->openfl) (20.3.0)\n",
      "Requirement already satisfied: jinja2 in /home/dmitry/code/openfl/venv/lib/python3.8/site-packages (from notebook->jupyter->openfl) (2.11.3)\n",
      "Requirement already satisfied: argon2-cffi in /home/dmitry/code/openfl/venv/lib/python3.8/site-packages (from notebook->jupyter->openfl) (20.1.0)\n",
      "Requirement already satisfied: prometheus-client in /home/dmitry/code/openfl/venv/lib/python3.8/site-packages (from notebook->jupyter->openfl) (0.9.0)\n",
      "Requirement already satisfied: Send2Trash>=1.5.0 in /home/dmitry/code/openfl/venv/lib/python3.8/site-packages (from notebook->jupyter->openfl) (1.5.0)\n",
      "Requirement already satisfied: terminado>=0.8.3 in /home/dmitry/code/openfl/venv/lib/python3.8/site-packages (from notebook->jupyter->openfl) (0.9.3)\n",
      "Requirement already satisfied: pyzmq>=17 in /home/dmitry/code/openfl/venv/lib/python3.8/site-packages (from notebook->jupyter->openfl) (22.0.3)\n",
      "Requirement already satisfied: python-dateutil>=2.1 in /home/dmitry/code/openfl/venv/lib/python3.8/site-packages (from jupyter-client->ipykernel->openfl) (2.8.1)\n",
      "Requirement already satisfied: MarkupSafe>=0.23 in /home/dmitry/code/openfl/venv/lib/python3.8/site-packages (from jinja2->notebook->jupyter->openfl) (1.1.1)\n",
      "Requirement already satisfied: bleach in /home/dmitry/code/openfl/venv/lib/python3.8/site-packages (from nbconvert->jupyter->openfl) (3.3.0)\n",
      "Requirement already satisfied: jupyterlab-pygments in /home/dmitry/code/openfl/venv/lib/python3.8/site-packages (from nbconvert->jupyter->openfl) (0.1.2)\n",
      "Requirement already satisfied: mistune<2,>=0.8.1 in /home/dmitry/code/openfl/venv/lib/python3.8/site-packages (from nbconvert->jupyter->openfl) (0.8.4)\n",
      "Requirement already satisfied: defusedxml in /home/dmitry/code/openfl/venv/lib/python3.8/site-packages (from nbconvert->jupyter->openfl) (0.7.1)\n",
      "Requirement already satisfied: pandocfilters>=1.4.1 in /home/dmitry/code/openfl/venv/lib/python3.8/site-packages (from nbconvert->jupyter->openfl) (1.4.3)\n",
      "Requirement already satisfied: testpath in /home/dmitry/code/openfl/venv/lib/python3.8/site-packages (from nbconvert->jupyter->openfl) (0.4.4)\n",
      "Requirement already satisfied: nbclient<0.6.0,>=0.5.0 in /home/dmitry/code/openfl/venv/lib/python3.8/site-packages (from nbconvert->jupyter->openfl) (0.5.3)\n",
      "Requirement already satisfied: entrypoints>=0.2.2 in /home/dmitry/code/openfl/venv/lib/python3.8/site-packages (from nbconvert->jupyter->openfl) (0.3)\n",
      "Requirement already satisfied: nest-asyncio in /home/dmitry/code/openfl/venv/lib/python3.8/site-packages (from nbclient<0.6.0,>=0.5.0->nbconvert->jupyter->openfl) (1.5.1)\n",
      "Requirement already satisfied: async-generator in /home/dmitry/code/openfl/venv/lib/python3.8/site-packages (from nbclient<0.6.0,>=0.5.0->nbconvert->jupyter->openfl) (1.10)\n",
      "Requirement already satisfied: packaging in /home/dmitry/code/openfl/venv/lib/python3.8/site-packages (from bleach->nbconvert->jupyter->openfl) (20.9)\n",
      "Requirement already satisfied: webencodings in /home/dmitry/code/openfl/venv/lib/python3.8/site-packages (from bleach->nbconvert->jupyter->openfl) (0.5.1)\n",
      "Requirement already satisfied: pyparsing>=2.0.2 in /home/dmitry/code/openfl/venv/lib/python3.8/site-packages (from packaging->bleach->nbconvert->jupyter->openfl) (2.4.7)\n",
      "Requirement already satisfied: pytz>=2017.3 in /home/dmitry/code/openfl/venv/lib/python3.8/site-packages (from pandas->openfl) (2021.1)\n",
      "Requirement already satisfied: qtpy in /home/dmitry/code/openfl/venv/lib/python3.8/site-packages (from qtconsole->jupyter->openfl) (1.9.0)\n",
      "Requirement already satisfied: threadpoolctl>=2.0.0 in /home/dmitry/code/openfl/venv/lib/python3.8/site-packages (from scikit-learn->openfl) (2.1.0)\n",
      "Requirement already satisfied: joblib>=0.11 in /home/dmitry/code/openfl/venv/lib/python3.8/site-packages (from scikit-learn->openfl) (1.0.1)\n",
      "Requirement already satisfied: scipy>=0.19.1 in /home/dmitry/code/openfl/venv/lib/python3.8/site-packages (from scikit-learn->openfl) (1.6.1)\n"
     ]
    }
   ],
   "source": [
    "!pip install openfl torchvision"
   ]
  },
  {
   "cell_type": "code",
   "execution_count": 1,
   "id": "robust-publisher",
   "metadata": {},
   "outputs": [
    {
     "name": "stdout",
     "output_type": "stream",
     "text": [
      "Creating Workspace Directories\n",
      "Creating Workspace Templates\n",
      "Successfully installed packages from /home/dmitry/.local/workspace/requirements.txt.\n",
      "\n",
      "New workspace directory structure:\n",
      "workspace\n",
      "├── torch_model.py\n",
      "├── requirements.txt\n",
      "├── final_pytorch_model\n",
      "├── plan\n",
      "│   ├── defaults\n",
      "│   │   ├── tasks_keras.yaml\n",
      "│   │   ├── data_loader.yaml\n",
      "│   │   ├── tasks_torch.yaml\n",
      "│   │   ├── tasks_tensorflow.yaml\n",
      "│   │   ├── network.yaml\n",
      "│   │   ├── assigner.yaml\n",
      "│   │   ├── defaults\n",
      "│   │   ├── compression_pipeline.yaml\n",
      "│   │   ├── tasks_fast_estimator.yaml\n",
      "│   │   ├── aggregator.yaml\n",
      "│   │   ├── collaborator.yaml\n",
      "│   │   └── task_runner.yaml\n",
      "│   ├── cols.yaml\n",
      "│   ├── data.yaml\n",
      "│   └── plan.yaml\n",
      "├── save\n",
      "│   ├── torch_cnn_mnist_init.pbuf\n",
      "│   ├── torch_cnn_mnist_best.pbuf\n",
      "│   ├── keras_cnn_mnist_init.pbuf\n",
      "│   ├── keras_cnn_mnist_last.pbuf\n",
      "│   ├── keras_cnn_mnist_best.pbuf\n",
      "│   └── torch_cnn_mnist_last.pbuf\n",
      "├── .workspace\n",
      "├── agg_to_col_two_signed_cert.zip\n",
      "├── data\n",
      "│   ├── MNIST\n",
      "│   │   ├── raw\n",
      "│   │   └── processed\n",
      "│   ├── cifar-10-batches-py\n",
      "│   │   ├── batches.meta\n",
      "│   │   ├── data_batch_2\n",
      "│   │   ├── data_batch_3\n",
      "│   │   ├── data_batch_5\n",
      "│   │   ├── data_batch_1\n",
      "│   │   ├── data_batch_4\n",
      "│   │   ├── readme.html\n",
      "│   │   └── test_batch\n",
      "│   └── cifar-10-python.tar.gz\n",
      "├── final_pytorch_model.h5\n",
      "├── code\n",
      "│   ├── keras_cnn.py\n",
      "│   ├── ptmnist_inmemory.py\n",
      "│   ├── tfmnist_inmemory.py\n",
      "│   ├── pt_cnn.py\n",
      "│   ├── __pycache__\n",
      "│   │   ├── ptmnist_inmemory.cpython-38.pyc\n",
      "│   │   ├── mnist_utils.cpython-38.pyc\n",
      "│   │   ├── pt_cnn.cpython-38.pyc\n",
      "│   │   └── __init__.cpython-38.pyc\n",
      "│   ├── __init__.py\n",
      "│   └── mnist_utils.py\n",
      "├── logs\n",
      "├── cert\n",
      "│   ├── server\n",
      "│   │   ├── agg_none.key\n",
      "│   │   ├── agg_none.crt\n",
      "│   │   ├── agg_none.csr\n",
      "│   │   ├── agg_nnlicv383.crt\n",
      "│   │   ├── agg_nnlicv383.key\n",
      "│   │   └── agg_nnlicv383.csr\n",
      "│   ├── col_one.csr\n",
      "│   ├── cert_chain.crt\n",
      "│   ├── client\n",
      "│   │   ├── col_one.crt\n",
      "│   │   ├── col_two.crt\n",
      "│   │   ├── col_one.key\n",
      "│   │   └── col_two.key\n",
      "│   ├── col_two.csr\n",
      "│   └── ca\n",
      "│       ├── signing-ca.crt\n",
      "│       ├── signing-ca\n",
      "│       ├── root-ca.crt\n",
      "│       ├── root-ca\n",
      "│       └── signing-ca.csr\n",
      "├── tiny-imagenet-200.zip\n",
      "├── final_model.pth\n",
      "├── __pycache__\n",
      "│   ├── model.cpython-38.pyc\n",
      "│   └── torch_model.cpython-38.pyc\n",
      "├── tiny-imagenet-200\n",
      "│   ├── val\n",
      "│   │   ├── val_annotations.txt\n",
      "│   │   └── images\n",
      "│   ├── train\n",
      "│   │   ├── n07734744\n",
      "│   │   ├── n03201208\n",
      "│   │   ├── n02814533\n",
      "│   │   ├── n01770393\n",
      "│   │   ├── n04487081\n",
      "│   │   ├── n02795169\n",
      "│   │   ├── n07720875\n",
      "│   │   ├── n12267677\n",
      "│   │   ├── n03026506\n",
      "│   │   ├── n02123045\n",
      "│   │   ├── n03814639\n",
      "│   │   ├── n07920052\n",
      "│   │   ├── n04259630\n",
      "│   │   ├── n03804744\n",
      "│   │   ├── n04074963\n",
      "│   │   ├── n04501370\n",
      "│   │   ├── n02132136\n",
      "│   │   ├── n02823428\n",
      "│   │   ├── n02909870\n",
      "│   │   ├── n02056570\n",
      "│   │   ├── n04371430\n",
      "│   │   ├── n02730930\n",
      "│   │   ├── n01910747\n",
      "│   │   ├── n03042490\n",
      "│   │   ├── n03983396\n",
      "│   │   ├── n02769748\n",
      "│   │   ├── n01641577\n",
      "│   │   ├── n02113799\n",
      "│   │   ├── n01644900\n",
      "│   │   ├── n02231487\n",
      "│   │   ├── n02094433\n",
      "│   │   ├── n02233338\n",
      "│   │   ├── n01698640\n",
      "│   │   ├── n09246464\n",
      "│   │   ├── n03977966\n",
      "│   │   ├── n06596364\n",
      "│   │   ├── n03891332\n",
      "│   │   ├── n03649909\n",
      "│   │   ├── n03544143\n",
      "│   │   ├── n02321529\n",
      "│   │   ├── n02268443\n",
      "│   │   ├── n02002724\n",
      "│   │   ├── n03584254\n",
      "│   │   ├── n02788148\n",
      "│   │   ├── n03837869\n",
      "│   │   ├── n09428293\n",
      "│   │   ├── n02843684\n",
      "│   │   ├── n02791270\n",
      "│   │   ├── n03085013\n",
      "│   │   ├── n03400231\n",
      "│   │   ├── n04417672\n",
      "│   │   ├── n02666196\n",
      "│   │   ├── n07711569\n",
      "│   │   ├── n01774750\n",
      "│   │   ├── n04275548\n",
      "│   │   ├── n03255030\n",
      "│   │   ├── n07875152\n",
      "│   │   ├── n04328186\n",
      "│   │   ├── n01945685\n",
      "│   │   ├── n04146614\n",
      "│   │   ├── n03670208\n",
      "│   │   ├── n04366367\n",
      "│   │   ├── n03447447\n",
      "│   │   ├── n03100240\n",
      "│   │   ├── n02074367\n",
      "│   │   ├── n02364673\n",
      "│   │   ├── n02504458\n",
      "│   │   ├── n02814860\n",
      "│   │   ├── n02106662\n",
      "│   │   ├── n01629819\n",
      "│   │   ├── n02977058\n",
      "│   │   ├── n01774384\n",
      "│   │   ├── n03424325\n",
      "│   │   ├── n04532106\n",
      "│   │   ├── n02125311\n",
      "│   │   ├── n07695742\n",
      "│   │   ├── n03706229\n",
      "│   │   ├── n02279972\n",
      "│   │   ├── n02892201\n",
      "│   │   ├── n02793495\n",
      "│   │   ├── n04486054\n",
      "│   │   ├── n02917067\n",
      "│   │   ├── n03763968\n",
      "│   │   ├── n07873807\n",
      "│   │   ├── n07614500\n",
      "│   │   ├── n02129165\n",
      "│   │   ├── n03179701\n",
      "│   │   ├── n04067472\n",
      "│   │   ├── n02480495\n",
      "│   │   ├── n04099969\n",
      "│   │   ├── n02808440\n",
      "│   │   ├── n03126707\n",
      "│   │   ├── n03160309\n",
      "│   │   ├── n02948072\n",
      "│   │   ├── n03393912\n",
      "│   │   ├── n02481823\n",
      "│   │   ├── n03014705\n",
      "│   │   ├── n03388043\n",
      "│   │   ├── n04265275\n",
      "│   │   ├── n04398044\n",
      "│   │   ├── n04070727\n",
      "│   │   ├── n03930313\n",
      "│   │   ├── n04560804\n",
      "│   │   ├── n03980874\n",
      "│   │   ├── n02802426\n",
      "│   │   ├── n02099712\n",
      "│   │   ├── n01443537\n",
      "│   │   ├── n02099601\n",
      "│   │   ├── n02837789\n",
      "│   │   ├── n04179913\n",
      "│   │   ├── n04507155\n",
      "│   │   ├── n04008634\n",
      "│   │   ├── n02841315\n",
      "│   │   ├── n03662601\n",
      "│   │   ├── n02124075\n",
      "│   │   ├── n04251144\n",
      "│   │   ├── n03355925\n",
      "│   │   ├── n01984695\n",
      "│   │   ├── n02999410\n",
      "│   │   ├── n03770439\n",
      "│   │   ├── n03937543\n",
      "│   │   ├── n01950731\n",
      "│   │   ├── n02058221\n",
      "│   │   ├── n04562935\n",
      "│   │   ├── n04532670\n",
      "│   │   ├── n07747607\n",
      "│   │   ├── n09256479\n",
      "│   │   ├── n04356056\n",
      "│   │   ├── n04596742\n",
      "│   │   ├── n01917289\n",
      "│   │   ├── n02281406\n",
      "│   │   ├── n03617480\n",
      "│   │   ├── n02906734\n",
      "│   │   ├── n01882714\n",
      "│   │   ├── n07615774\n",
      "│   │   ├── n07583066\n",
      "│   │   ├── n02950826\n",
      "│   │   ├── n03404251\n",
      "│   │   ├── n01768244\n",
      "│   │   ├── n03854065\n",
      "│   │   ├── n09332890\n",
      "│   │   ├── n02403003\n",
      "│   │   ├── n04133789\n",
      "│   │   ├── n03902125\n",
      "│   │   ├── n02509815\n",
      "│   │   ├── n07579787\n",
      "│   │   ├── n02883205\n",
      "│   │   ├── n02815834\n",
      "│   │   ├── n03970156\n",
      "│   │   ├── n03992509\n",
      "│   │   ├── n03250847\n",
      "│   │   ├── n01944390\n",
      "│   │   ├── n02236044\n",
      "│   │   ├── n02963159\n",
      "│   │   ├── n02927161\n",
      "│   │   ├── n03796401\n",
      "│   │   ├── n04456115\n",
      "│   │   ├── n04023962\n",
      "│   │   ├── n01855672\n",
      "│   │   ├── n04597913\n",
      "│   │   ├── n02395406\n",
      "│   │   ├── n03599486\n",
      "│   │   ├── n07749582\n",
      "│   │   ├── n02190166\n",
      "│   │   ├── n02699494\n",
      "│   │   ├── n04149813\n",
      "│   │   ├── n01784675\n",
      "│   │   ├── n04399382\n",
      "│   │   ├── n02988304\n",
      "│   │   ├── n02165456\n",
      "│   │   ├── n09193705\n",
      "│   │   ├── n03444034\n",
      "│   │   ├── n01742172\n",
      "│   │   ├── n04465501\n",
      "│   │   ├── n02123394\n",
      "│   │   ├── n04254777\n",
      "│   │   ├── n02437312\n",
      "│   │   ├── n04311004\n",
      "│   │   ├── n01983481\n",
      "│   │   ├── n03733131\n",
      "│   │   ├── n02226429\n",
      "│   │   ├── n02206856\n",
      "│   │   ├── n02486410\n",
      "│   │   ├── n03637318\n",
      "│   │   ├── n03976657\n",
      "│   │   ├── n02423022\n",
      "│   │   ├── n07715103\n",
      "│   │   ├── n04285008\n",
      "│   │   ├── n07768694\n",
      "│   │   ├── n02415577\n",
      "│   │   ├── n03089624\n",
      "│   │   ├── n02085620\n",
      "│   │   ├── n03838899\n",
      "│   │   ├── n04118538\n",
      "│   │   ├── n02410509\n",
      "│   │   ├── n04540053\n",
      "│   │   ├── n02669723\n",
      "│   │   ├── n04376876\n",
      "│   │   ├── n07753592\n",
      "│   │   └── n07871810\n",
      "│   ├── test\n",
      "│   │   └── images\n",
      "│   ├── words.txt\n",
      "│   └── wnids.txt\n",
      "├── model.py\n",
      "└── agg_to_col_one_signed_cert.zip\n",
      "\n",
      "224 directories, 71 files\n",
      "Original training data size: 60000\n",
      "Original validation data size: 10000\n",
      "\n"
     ]
    },
    {
     "data": {
      "text/html": [
       "<pre style=\"white-space:pre;overflow-x:auto;line-height:normal;font-family:Menlo,'DejaVu Sans Mono',consolas,'Courier New',monospace\"><span style=\"color: #7fbfbf\">[13:17:15] </span><span style=\"color: #000080\">INFO</span>     Updating aggregator.settings.rounds_to_train to <span style=\"color: #000080; font-weight: bold\">2</span><span style=\"color: #808000\">...</span>                                                                           <a href=\"file:///home/dmitry/code/openfl/openfl/native/native.py\"><span style=\"color: #7f7f7f\">native.py</span></a><span style=\"color: #7f7f7f\">:341</span>\n",
       "</pre>\n"
      ],
      "text/plain": [
       "<rich.jupyter.JupyterRenderable at 0x7f5240569b20>"
      ]
     },
     "metadata": {},
     "output_type": "display_data"
    },
    {
     "data": {
      "text/html": [
       "<pre style=\"white-space:pre;overflow-x:auto;line-height:normal;font-family:Menlo,'DejaVu Sans Mono',consolas,'Courier New',monospace\"><span style=\"color: #7fbfbf\">           </span><span style=\"color: #000080\">INFO</span>     Loading DEFAULTS for section <span style=\"color: #800000\">aggregator</span> from file                                                                                <a href=\"file:///home/dmitry/code/openfl/openfl/federated/plan/plan.py\"><span style=\"color: #7f7f7f\">plan.py</span></a><span style=\"color: #7f7f7f\">:100</span>\n",
       "                    <span style=\"color: #800080\">/home/dmitry/code/openfl/openfl-workspace/workspace/plan/defaults/</span><span style=\"color: #ff00ff\">aggregator.yaml.</span>                                                          \n",
       "</pre>\n"
      ],
      "text/plain": [
       "<rich.jupyter.JupyterRenderable at 0x7f520d1a13d0>"
      ]
     },
     "metadata": {},
     "output_type": "display_data"
    },
    {
     "data": {
      "text/html": [
       "<pre style=\"white-space:pre;overflow-x:auto;line-height:normal;font-family:Menlo,'DejaVu Sans Mono',consolas,'Courier New',monospace\"><span style=\"color: #7fbfbf\">           </span><span style=\"color: #000080\">INFO</span>     Loading DEFAULTS for section <span style=\"color: #800000\">assigner</span> from file <span style=\"color: #800080\">/home/dmitry/code/openfl/openfl-workspace/workspace/plan/defaults/</span><span style=\"color: #ff00ff\">assigner.yaml.</span> <a href=\"file:///home/dmitry/code/openfl/openfl/federated/plan/plan.py\"><span style=\"color: #7f7f7f\">plan.py</span></a><span style=\"color: #7f7f7f\">:100</span>\n",
       "</pre>\n"
      ],
      "text/plain": [
       "<rich.jupyter.JupyterRenderable at 0x7f520d1b31f0>"
      ]
     },
     "metadata": {},
     "output_type": "display_data"
    },
    {
     "data": {
      "text/html": [
       "<pre style=\"white-space:pre;overflow-x:auto;line-height:normal;font-family:Menlo,'DejaVu Sans Mono',consolas,'Courier New',monospace\"><span style=\"color: #7fbfbf\">           </span><span style=\"color: #000080\">INFO</span>     Loading DEFAULTS for section <span style=\"color: #800000\">collaborator</span> from file                                                                              <a href=\"file:///home/dmitry/code/openfl/openfl/federated/plan/plan.py\"><span style=\"color: #7f7f7f\">plan.py</span></a><span style=\"color: #7f7f7f\">:100</span>\n",
       "                    <span style=\"color: #800080\">/home/dmitry/code/openfl/openfl-workspace/workspace/plan/defaults/</span><span style=\"color: #ff00ff\">collaborator.yaml.</span>                                                        \n",
       "</pre>\n"
      ],
      "text/plain": [
       "<rich.jupyter.JupyterRenderable at 0x7f52e8665130>"
      ]
     },
     "metadata": {},
     "output_type": "display_data"
    },
    {
     "data": {
      "text/html": [
       "<pre style=\"white-space:pre;overflow-x:auto;line-height:normal;font-family:Menlo,'DejaVu Sans Mono',consolas,'Courier New',monospace\"><span style=\"color: #7fbfbf\">           </span><span style=\"color: #000080\">INFO</span>     Loading DEFAULTS for section <span style=\"color: #800000\">compression_pipeline</span> from file                                                                      <a href=\"file:///home/dmitry/code/openfl/openfl/federated/plan/plan.py\"><span style=\"color: #7f7f7f\">plan.py</span></a><span style=\"color: #7f7f7f\">:100</span>\n",
       "                    <span style=\"color: #800080\">/home/dmitry/code/openfl/openfl-workspace/workspace/plan/defaults/</span><span style=\"color: #ff00ff\">compression_pipeline.yaml.</span>                                                \n",
       "</pre>\n"
      ],
      "text/plain": [
       "<rich.jupyter.JupyterRenderable at 0x7f52e8665130>"
      ]
     },
     "metadata": {},
     "output_type": "display_data"
    },
    {
     "data": {
      "text/html": [
       "<pre style=\"white-space:pre;overflow-x:auto;line-height:normal;font-family:Menlo,'DejaVu Sans Mono',consolas,'Courier New',monospace\"><span style=\"color: #7fbfbf\">           </span><span style=\"color: #000080\">INFO</span>     Loading DEFAULTS for section <span style=\"color: #800000\">data_loader</span> from file                                                                               <a href=\"file:///home/dmitry/code/openfl/openfl/federated/plan/plan.py\"><span style=\"color: #7f7f7f\">plan.py</span></a><span style=\"color: #7f7f7f\">:100</span>\n",
       "                    <span style=\"color: #800080\">/home/dmitry/code/openfl/openfl-workspace/workspace/plan/defaults/</span><span style=\"color: #ff00ff\">data_loader.yaml.</span>                                                         \n",
       "</pre>\n"
      ],
      "text/plain": [
       "<rich.jupyter.JupyterRenderable at 0x7f520d1b33d0>"
      ]
     },
     "metadata": {},
     "output_type": "display_data"
    },
    {
     "data": {
      "text/html": [
       "<pre style=\"white-space:pre;overflow-x:auto;line-height:normal;font-family:Menlo,'DejaVu Sans Mono',consolas,'Courier New',monospace\"><span style=\"color: #7fbfbf\">           </span><span style=\"color: #000080\">INFO</span>     Loading DEFAULTS for section <span style=\"color: #800000\">network</span> from file <span style=\"color: #800080\">/home/dmitry/code/openfl/openfl-workspace/workspace/plan/defaults/</span><span style=\"color: #ff00ff\">network.yaml.</span>   <a href=\"file:///home/dmitry/code/openfl/openfl/federated/plan/plan.py\"><span style=\"color: #7f7f7f\">plan.py</span></a><span style=\"color: #7f7f7f\">:100</span>\n",
       "</pre>\n"
      ],
      "text/plain": [
       "<rich.jupyter.JupyterRenderable at 0x7f520d1b33d0>"
      ]
     },
     "metadata": {},
     "output_type": "display_data"
    },
    {
     "data": {
      "text/html": [
       "<pre style=\"white-space:pre;overflow-x:auto;line-height:normal;font-family:Menlo,'DejaVu Sans Mono',consolas,'Courier New',monospace\"><span style=\"color: #7fbfbf\">           </span><span style=\"color: #000080\">INFO</span>     Loading DEFAULTS for section <span style=\"color: #800000\">task_runner</span> from file                                                                               <a href=\"file:///home/dmitry/code/openfl/openfl/federated/plan/plan.py\"><span style=\"color: #7f7f7f\">plan.py</span></a><span style=\"color: #7f7f7f\">:100</span>\n",
       "                    <span style=\"color: #800080\">/home/dmitry/code/openfl/openfl-workspace/workspace/plan/defaults/</span><span style=\"color: #ff00ff\">task_runner.yaml.</span>                                                         \n",
       "</pre>\n"
      ],
      "text/plain": [
       "<rich.jupyter.JupyterRenderable at 0x7f520d1b33d0>"
      ]
     },
     "metadata": {},
     "output_type": "display_data"
    },
    {
     "data": {
      "text/html": [
       "<pre style=\"white-space:pre;overflow-x:auto;line-height:normal;font-family:Menlo,'DejaVu Sans Mono',consolas,'Courier New',monospace\"><span style=\"color: #7fbfbf\">           </span><span style=\"color: #000080\">INFO</span>     Loading DEFAULTS for section <span style=\"color: #800000\">tasks</span> from file <span style=\"color: #800080\">/home/dmitry/code/openfl/openfl-workspace/workspace/plan/defaults/</span><span style=\"color: #ff00ff\">tasks_torch.yaml.</span> <a href=\"file:///home/dmitry/code/openfl/openfl/federated/plan/plan.py\"><span style=\"color: #7f7f7f\">plan.py</span></a><span style=\"color: #7f7f7f\">:100</span>\n",
       "</pre>\n"
      ],
      "text/plain": [
       "<rich.jupyter.JupyterRenderable at 0x7f520d1b32b0>"
      ]
     },
     "metadata": {},
     "output_type": "display_data"
    },
    {
     "data": {
      "text/html": [
       "<pre style=\"white-space:pre;overflow-x:auto;line-height:normal;font-family:Menlo,'DejaVu Sans Mono',consolas,'Courier New',monospace\"><span style=\"color: #7fbfbf\">           </span><span style=\"color: #000080\">INFO</span>     FL-Plan hash is <span style=\"color: #000080\">1d1f60ecee2d5522cadd719f66a90463795edd75fc3ada5346a0537ea2c8ec381498ea9f779a293df9042dedafa726c3</span>                 <a href=\"file:///home/dmitry/code/openfl/openfl/federated/plan/plan.py\"><span style=\"color: #7f7f7f\">plan.py</span></a><span style=\"color: #7f7f7f\">:210</span>\n",
       "</pre>\n"
      ],
      "text/plain": [
       "<rich.jupyter.JupyterRenderable at 0x7f520d1a13d0>"
      ]
     },
     "metadata": {},
     "output_type": "display_data"
    },
    {
     "data": {
      "text/html": [
       "<pre style=\"white-space:pre;overflow-x:auto;line-height:normal;font-family:Menlo,'DejaVu Sans Mono',consolas,'Courier New',monospace\"><span style=\"color: #7fbfbf\">           </span><span style=\"color: #000080\">INFO</span>     Parsing Federated Learning Plan : <span style=\"color: #008000\">SUCCESS</span> : <span style=\"color: #000080\">plan/plan.yaml</span>.                                                                      <a href=\"file:///home/dmitry/code/openfl/openfl/federated/plan/plan.py\"><span style=\"color: #7f7f7f\">plan.py</span></a><span style=\"color: #7f7f7f\">:136</span>\n",
       "</pre>\n"
      ],
      "text/plain": [
       "<rich.jupyter.JupyterRenderable at 0x7f520d1a1a90>"
      ]
     },
     "metadata": {},
     "output_type": "display_data"
    },
    {
     "data": {
      "text/html": [
       "<pre style=\"white-space:pre;overflow-x:auto;line-height:normal;font-family:Menlo,'DejaVu Sans Mono',consolas,'Courier New',monospace\"><span style=\"color: #7fbfbf\">           </span><span style=\"color: #000080\">INFO</span>     aggregator:                                                                                                                      <a href=\"file:///home/dmitry/code/openfl/openfl/federated/plan/plan.py\"><span style=\"color: #7f7f7f\">plan.py</span></a><span style=\"color: #7f7f7f\">:140</span>\n",
       "                      defaults: plan/defaults/aggregator.yaml                                                                                                   \n",
       "                      settings:                                                                                                                                 \n",
       "                        best_state_path: save/torch_cnn_mnist_best.pbuf                                                                                         \n",
       "                        db_store_rounds: <span style=\"color: #000080; font-weight: bold\">1</span>                                                                                                                      \n",
       "                        init_state_path: save/torch_cnn_mnist_init.pbuf                                                                                         \n",
       "                        last_state_path: save/torch_cnn_mnist_last.pbuf                                                                                         \n",
       "                        rounds_to_train: <span style=\"color: #000080; font-weight: bold\">2</span>                                                                                                                      \n",
       "                      template: openfl.component.Aggregator                                                                                                     \n",
       "                    assigner:                                                                                                                                   \n",
       "                      defaults: plan/defaults/assigner.yaml                                                                                                     \n",
       "                      settings:                                                                                                                                 \n",
       "                        task_groups:                                                                                                                            \n",
       "                        - name: train_and_validate                                                                                                              \n",
       "                          percentage: <span style=\"color: #000080; font-weight: bold\">1.0</span>                                                                                                                       \n",
       "                          tasks:                                                                                                                                \n",
       "                          - aggregated_model_validation                                                                                                         \n",
       "                          - train                                                                                                                               \n",
       "                          - locally_tuned_model_validation                                                                                                      \n",
       "                      template: openfl.component.RandomGroupedAssigner                                                                                          \n",
       "                    collaborator:                                                                                                                               \n",
       "                      defaults: plan/defaults/collaborator.yaml                                                                                                 \n",
       "                      settings:                                                                                                                                 \n",
       "                        db_store_rounds: <span style=\"color: #000080; font-weight: bold\">1</span>                                                                                                                      \n",
       "                        delta_updates: false                                                                                                                    \n",
       "                        opt_treatment: RESET                                                                                                                    \n",
       "                      template: openfl.component.Collaborator                                                                                                   \n",
       "                    compression_pipeline:                                                                                                                       \n",
       "                      defaults: plan/defaults/compression_pipeline.yaml                                                                                         \n",
       "                      settings: <span style=\"font-weight: bold\">{}</span>                                                                                                                              \n",
       "                      template: openfl.pipelines.NoCompressionPipeline                                                                                          \n",
       "                    data_loader:                                                                                                                                \n",
       "                      defaults: plan/defaults/data_loader.yaml                                                                                                  \n",
       "                      settings:                                                                                                                                 \n",
       "                        batch_size: <span style=\"color: #000080; font-weight: bold\">256</span>                                                                                                                         \n",
       "                        collaborator_count: <span style=\"color: #000080; font-weight: bold\">2</span>                                                                                                                   \n",
       "                        data_group_name: mnist                                                                                                                  \n",
       "                      template: code.ptmnist_inmemory.PyTorchMNISTInMemory                                                                                      \n",
       "                    network:                                                                                                                                    \n",
       "                      defaults: plan/defaults/network.yaml                                                                                                      \n",
       "                      settings:                                                                                                                                 \n",
       "                        agg_addr: nnlicv383                                                                                                                     \n",
       "                        agg_port: <span style=\"color: #000080; font-weight: bold\">56951</span>                                                                                                                         \n",
       "                        cert_folder: cert                                                                                                                       \n",
       "                        client_reconnect_interval: <span style=\"color: #000080; font-weight: bold\">5</span>                                                                                                            \n",
       "                        disable_client_auth: false                                                                                                              \n",
       "                        disable_tls: false                                                                                                                      \n",
       "                        hash_salt: auto                                                                                                                         \n",
       "                      template: openfl.federation.Network                                                                                                       \n",
       "                    task_runner:                                                                                                                                \n",
       "                      defaults: plan/defaults/task_runner.yaml                                                                                                  \n",
       "                      settings: <span style=\"font-weight: bold\">{}</span>                                                                                                                              \n",
       "                      template: code.pt_cnn.PyTorchCNN                                                                                                          \n",
       "                    tasks:                                                                                                                                      \n",
       "                      aggregated_model_validation:                                                                                                              \n",
       "                        function: validate                                                                                                                      \n",
       "                        kwargs:                                                                                                                                 \n",
       "                          apply: global                                                                                                                         \n",
       "                          metrics:                                                                                                                              \n",
       "                          - acc                                                                                                                                 \n",
       "                      defaults: plan/defaults/tasks_torch.yaml                                                                                                  \n",
       "                      locally_tuned_model_validation:                                                                                                           \n",
       "                        function: validate                                                                                                                      \n",
       "                        kwargs:                                                                                                                                 \n",
       "                          apply: local                                                                                                                          \n",
       "                          metrics:                                                                                                                              \n",
       "                          - acc                                                                                                                                 \n",
       "                      settings: <span style=\"font-weight: bold\">{}</span>                                                                                                                              \n",
       "                      train:                                                                                                                                    \n",
       "                        function: train_batches                                                                                                                 \n",
       "                        kwargs:                                                                                                                                 \n",
       "                          metrics:                                                                                                                              \n",
       "                          - loss                                                                                                                                \n",
       "                                                                                                                                                                \n",
       "</pre>\n"
      ],
      "text/plain": [
       "<rich.jupyter.JupyterRenderable at 0x7f520cbeb4f0>"
      ]
     },
     "metadata": {},
     "output_type": "display_data"
    },
    {
     "data": {
      "text/html": [
       "<pre style=\"white-space:pre;overflow-x:auto;line-height:normal;font-family:Menlo,'DejaVu Sans Mono',consolas,'Courier New',monospace\"><span style=\"color: #7fbfbf\">           </span><span style=\"color: #000080\">INFO</span>     Building <span style=\"color: #800000\">🡆</span> Object <span style=\"color: #800000\">NoCompressionPipeline</span> from <span style=\"color: #800000\">openfl.pipelines</span> Module.                                                            <a href=\"file:///home/dmitry/code/openfl/openfl/federated/plan/plan.py\"><span style=\"color: #7f7f7f\">plan.py</span></a><span style=\"color: #7f7f7f\">:170</span>\n",
       "</pre>\n"
      ],
      "text/plain": [
       "<rich.jupyter.JupyterRenderable at 0x7f520d1aaa00>"
      ]
     },
     "metadata": {},
     "output_type": "display_data"
    },
    {
     "data": {
      "text/html": [
       "<pre style=\"white-space:pre;overflow-x:auto;line-height:normal;font-family:Menlo,'DejaVu Sans Mono',consolas,'Courier New',monospace\"><span style=\"color: #7fbfbf\">           </span><span style=\"color: #000080\">INFO</span>     Settings <span style=\"color: #800000\">🡆</span> <span style=\"font-weight: bold\">{}</span>                                                                                                                    <a href=\"file:///home/dmitry/code/openfl/openfl/federated/plan/plan.py\"><span style=\"color: #7f7f7f\">plan.py</span></a><span style=\"color: #7f7f7f\">:173</span>\n",
       "</pre>\n"
      ],
      "text/plain": [
       "<rich.jupyter.JupyterRenderable at 0x7f520d1aaa30>"
      ]
     },
     "metadata": {},
     "output_type": "display_data"
    },
    {
     "data": {
      "text/html": [
       "<pre style=\"white-space:pre;overflow-x:auto;line-height:normal;font-family:Menlo,'DejaVu Sans Mono',consolas,'Courier New',monospace\"><span style=\"color: #7fbfbf\">           </span><span style=\"color: #000080\">INFO</span>     Override <span style=\"color: #800000\">🡆</span> <span style=\"font-weight: bold\">{</span><span style=\"color: #008000\">'defaults'</span>: <span style=\"color: #008000\">'plan/defaults/compression_pipeline.yaml'</span><span style=\"font-weight: bold\">}</span>                                                               <a href=\"file:///home/dmitry/code/openfl/openfl/federated/plan/plan.py\"><span style=\"color: #7f7f7f\">plan.py</span></a><span style=\"color: #7f7f7f\">:175</span>\n",
       "</pre>\n"
      ],
      "text/plain": [
       "<rich.jupyter.JupyterRenderable at 0x7f520d1aac70>"
      ]
     },
     "metadata": {},
     "output_type": "display_data"
    },
    {
     "data": {
      "text/html": [
       "<pre style=\"white-space:pre;overflow-x:auto;line-height:normal;font-family:Menlo,'DejaVu Sans Mono',consolas,'Courier New',monospace\"><span style=\"color: #7fbfbf\">           </span><span style=\"color: #800000\">WARNING</span>  tried to remove tensor: __opt_state_needed not present in the tensor dict                                                        <a href=\"file:///home/dmitry/code/openfl/openfl/utilities/utils.py\"><span style=\"color: #7f7f7f\">utils.py</span></a><span style=\"color: #7f7f7f\">:85</span>\n",
       "</pre>\n"
      ],
      "text/plain": [
       "<rich.jupyter.JupyterRenderable at 0x7f525c9c2610>"
      ]
     },
     "metadata": {},
     "output_type": "display_data"
    },
    {
     "data": {
      "text/html": [
       "<pre style=\"white-space:pre;overflow-x:auto;line-height:normal;font-family:Menlo,'DejaVu Sans Mono',consolas,'Courier New',monospace\"><span style=\"color: #7fbfbf\">           </span><span style=\"color: #000080\">INFO</span>     Creating Initial Weights File    🠆 save/torch_cnn_mnist_init.pbuf                                                              <a href=\"file:///home/dmitry/code/openfl/openfl/native/native.py\"><span style=\"color: #7f7f7f\">native.py</span></a><span style=\"color: #7f7f7f\">:195</span>\n",
       "</pre>\n"
      ],
      "text/plain": [
       "<rich.jupyter.JupyterRenderable at 0x7f525c9c2460>"
      ]
     },
     "metadata": {},
     "output_type": "display_data"
    },
    {
     "data": {
      "text/html": [
       "<pre style=\"white-space:pre;overflow-x:auto;line-height:normal;font-family:Menlo,'DejaVu Sans Mono',consolas,'Courier New',monospace\"><span style=\"color: #7fbfbf\">           </span><span style=\"color: #000080\">INFO</span>     Starting Experiment<span style=\"color: #808000\">...</span>                                                                                                         <a href=\"file:///home/dmitry/code/openfl/openfl/native/native.py\"><span style=\"color: #7f7f7f\">native.py</span></a><span style=\"color: #7f7f7f\">:170</span>\n",
       "</pre>\n"
      ],
      "text/plain": [
       "<rich.jupyter.JupyterRenderable at 0x7f525c9c26d0>"
      ]
     },
     "metadata": {},
     "output_type": "display_data"
    },
    {
     "name": "stdout",
     "output_type": "stream",
     "text": [
      "FINISH in 28.08\n"
     ]
    }
   ],
   "source": [
    "# Workaround to run multiprocessing scenario in Jupyter Notebook\n",
    "# Don't define those instances in this cell directily\n",
    "from torch_model import Net, cross_entropy, get_optimizer\n",
    "\n",
    "import time\n",
    "\n",
    "import numpy as np\n",
    "import torch\n",
    "import torch.nn as nn\n",
    "import torch.nn.functional as F\n",
    "import torch.optim as optim\n",
    "from torchvision import datasets, transforms\n",
    "\n",
    "import openfl.native as fx\n",
    "from openfl.federated import FederatedModel, FederatedDataSet\n",
    "from openfl.interface.cli import setup_logging\n",
    "\n",
    "\n",
    "def one_hot(labels, classes):\n",
    "    \"\"\"One-hot encode `labels` using `classes` classes.\"\"\"\n",
    "    return np.eye(classes)[labels]\n",
    "\n",
    "\n",
    "setup_logging()\n",
    "\n",
    "t = time.time()\n",
    "\n",
    "fx.init('torch_cnn_mnist')\n",
    "\n",
    "is_multi = True\n",
    "batch_size = 32\n",
    "rounds_to_train = 2\n",
    "collaborators_amount = 5\n",
    "classes = 10\n",
    "\n",
    "transform = transforms.Compose([transforms.ToTensor(),\n",
    "                                transforms.Normalize((0.5), (0.5))])\n",
    "\n",
    "trainset = datasets.MNIST(root='./data',\n",
    "                          train=True,\n",
    "                          download=True,\n",
    "                          transform=transform)\n",
    "\n",
    "validset = datasets.MNIST(root='./data',\n",
    "                          train=False,\n",
    "                          download=True,\n",
    "                          transform=transform,\n",
    "                          target_transform=lambda labels: one_hot(labels, classes))\n",
    "\n",
    "(train_images, train_labels), (valid_images, valid_labels) = (zip(*dataset) for dataset in\n",
    "                                                              [trainset, validset])\n",
    "train_images, valid_images = (torch.stack(images).numpy() for images in\n",
    "                              [train_images, valid_images])\n",
    "train_labels, valid_labels = (np.stack(labels) for labels in [train_labels, valid_labels])\n",
    "feature_shape = train_images.shape[1]\n",
    "\n",
    "fl_data = FederatedDataSet(train_images, train_labels, valid_images, valid_labels,\n",
    "                           batch_size=batch_size, num_classes=classes)\n",
    "fl_model = FederatedModel(build_model=Net, optimizer=get_optimizer,\n",
    "                          loss_fn=cross_entropy, data_loader=fl_data)\n",
    "collaborator_models = fl_model.setup(num_collaborators=collaborators_amount)\n",
    "collaborators = {str(i): c for i, c in enumerate(collaborator_models)}\n",
    "\n",
    "print(f'Original training data size: {len(train_images)}')\n",
    "print(f'Original validation data size: {len(valid_images)}\\n')\n",
    "\n",
    "final_fl_model = fx.run_experiment(collaborators, {\n",
    "    'aggregator.settings.rounds_to_train': rounds_to_train,\n",
    "}, is_multi=is_multi)\n",
    "final_fl_model.save_native('final_pytorch_model')\n",
    "print(f'FINISH in {(time.time() - t):.2f}')\n"
   ]
  },
  {
   "cell_type": "markdown",
   "id": "established-korea",
   "metadata": {},
   "source": [
    "## !!NOTICE!!  Don't forget to reload kernel after execution\n",
    "<img align=\"left\" src=\"reload_kernel.png\">"
   ]
  }
 ],
 "metadata": {
  "kernelspec": {
   "display_name": "Python 3",
   "language": "python",
   "name": "python3"
  },
  "language_info": {
   "codemirror_mode": {
    "name": "ipython",
    "version": 3
   },
   "file_extension": ".py",
   "mimetype": "text/x-python",
   "name": "python",
   "nbconvert_exporter": "python",
   "pygments_lexer": "ipython3",
   "version": "3.8.5"
  }
 },
 "nbformat": 4,
 "nbformat_minor": 5
}